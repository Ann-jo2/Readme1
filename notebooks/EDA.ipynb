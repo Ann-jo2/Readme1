{
 "cells": [
  {
   "cell_type": "code",
   "execution_count": null,
   "metadata": {},
   "outputs": [],
   "source": [
    "import pandas as pd\n",
    "import plotly.express as px\n",
    "import matplotlib.pyplot as plt\n",
    "import seaborn as sns\n",
    "\n",
    "# Load the dataset\n",
    "df = pd.read_csv('vehicles_us (2).csv')  \n",
    "\n",
    "\n",
    "df.info()\n",
    "\n",
    "\n",
    "df.head()\n",
    "\n",
    "\n",
    "summary_stats = df.describe()\n",
    "summary_stats\n",
    "\n",
    "\n",
    "df_cleaned = df.dropna()\n",
    "\n",
    "\n",
    "plt.figure(figsize=(10, 6))\n",
    "sns.histplot(df_cleaned['Mileage'], bins=20, kde=True)\n",
    "plt.title('Distribution of Mileage')\n",
    "plt.xlabel('Mileage')\n",
    "plt.ylabel('Frequency')\n",
    "plt.show()\n",
    "\n",
    "\n",
    "histogram = px.histogram(df_cleaned, x='Year', title='Distribution of Vehicle Years')\n",
    "scatter_plot = px.scatter(df_cleaned, x='Mileage', y='Price', title='Mileage vs Price')\n",
    "\n",
    "\n",
    "histogram.show()\n",
    "scatter_plot.show()"
   ]
  }
 ],
 "metadata": {
  "language_info": {
   "name": "python"
  }
 },
 "nbformat": 4,
 "nbformat_minor": 2
}
