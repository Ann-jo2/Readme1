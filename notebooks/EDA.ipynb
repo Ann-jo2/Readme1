{
 "cells": [
  {
   "cell_type": "code",
   "execution_count": null,
   "metadata": {},
   "outputs": [],
   "source": []
  },
  {
   "cell_type": "code",
   "execution_count": null,
   "metadata": {},
   "outputs": [],
   "source": [
    "import pandas as pd\n",
    "import matplotlib.pyplot as plt\n",
    "import seaborn as sns\n",
    "\n",
    "# Load the dataset\n",
    "df = pd.read_csv('vehicles_us (2).csv')\n",
    "\n",
    "# Display general information about the dataset\n",
    "df_info = df.info()\n",
    "\n",
    "# Display the first few rows of the dataset\n",
    "df_head = df.head()\n",
    "\n",
    "# Basic statistics of numerical columns\n",
    "df_describe = df.describe()\n",
    "\n",
    "# Check for missing values\n",
    "df_missing = df.isnull().sum()\n",
    "\n",
    "# Data preprocessing\n",
    "# Filling missing values (replace NaN values with appropriate values)\n",
    "df['odometer'].fillna(df['odometer'].median(), inplace=True)\n",
    "df['paint_color'].fillna('Unknown', inplace=True)\n",
    "\n",
    "# Convert the 'model_year' column to datetime format (assuming it's a year)\n",
    "df['model_year'] = pd.to_datetime(df['model_year'], errors='coerce')\n",
    "\n",
    "# Calculate the total sales for each game and put these values in a separate column\n",
    "df['type'] = df[['condition', 'odometer']].sum(axis=1)\n",
    "\n",
    "# Display the updated dataset\n",
    "df_updated_head = df.head()\n",
    "\n",
    "# Visualize the distribution of condition using a histogram\n",
    "plt.figure(figsize=(10, 6))\n",
    "sns.histplot(df['condition'], bins=30, kde=True)\n",
    "plt.title('Distribution of condition')\n",
    "plt.xlabel('condition')\n",
    "plt.ylabel('odometer')\n",
    "plt.show()\n",
    "\n",
    "# Visualize the relationship between year and price using a scatter plot\n",
    "plt.figure(figsize=(10, 6))\n",
    "sns.scatterplot(x='model_year', y='Fuel', data=df)\n",
    "plt.title('Scatter Plot: Model Year vs Fuel')\n",
    "plt.xlabel('Model Year')\n",
    "plt.ylabel('Fuel')\n",
    "plt.show()\n",
    "\n",
    "# Save the processed data to a new CSV file\n",
    "df.to_csv('vehicles_us_processed.csv', index=False)"
   ]
  }
 ],
 "metadata": {
  "language_info": {
   "name": "python"
  }
 },
 "nbformat": 4,
 "nbformat_minor": 2
}
